{
 "cells": [
  {
   "cell_type": "markdown",
   "metadata": {},
   "source": [
    "# Question 2 - Part 1\n",
    "Read all the json files in the folder called Data.\n",
    "There are three categories of json files in this folder. They are identified by the key called “term” in each of the json file.\n",
    "Create a folder structure to read all these json files and store them into these separate folders. You are expected to create a hierarchy of folder structure.\n",
    "Example:You can place all restaurants json files in a particular country (say Australia) in the same folder. How you group the json files and create a folder structure is your choice. Your task is to identify criteria by which you can group all these json files and store them.\n",
    "(You could use these keys to create hierarchy and store json files: Country, city, categories)\n",
    "\n",
    "Output Format:\n",
    "Create a folder (Name: Data Processed)\n",
    "In this folder you should have a hierarchy of folder structures (Example: Data Processed/Australia(AU)/........)"
   ]
  },
  {
   "cell_type": "code",
   "execution_count": 10,
   "metadata": {
    "collapsed": true
   },
   "outputs": [],
   "source": [
    "import os\n",
    "import json\n",
    "import re\n",
    "import shutil\n",
    "import glob"
   ]
  },
  {
   "cell_type": "code",
   "execution_count": 11,
   "metadata": {
    "collapsed": true
   },
   "outputs": [],
   "source": [
    "def create_parent_directory():                      #creation of parent folder data_processed\n",
    "    current_dir = os.path.dirname('__file__')\n",
    "    home_folder = os.path.join(current_dir, 'Data Processed')\n",
    "    if not os.path.exists(home_folder):\n",
    "        os.mkdir(home_folder)\n",
    "    return home_folder\n",
    "\n",
    "def make_directory_with_country(home_folder, country_name, city_name, term, category):   # creation of folder structure by joining the input parameters \n",
    "    directory =os.path.join(home_folder, country_name, city_name, term, category)\n",
    "    if not os.path.exists(directory):\n",
    "        os.makedirs(directory)                  #If folder exists, return its path\n",
    "        return directory\n",
    "    else:                            \n",
    "        return directory\n",
    "\n",
    "def write_to_json_file(file_path, json_data):         #Function to write data to json file at respective location\n",
    "    with open(file_path, 'w') as json_out:\n",
    "        json.dump(json_data, json_out)\n",
    "        \n",
    "remove_numbers_lam = lambda value: re.sub(r'\\d+', '', value).strip()    #Lambda expression to remove numbers"
   ]
  },
  {
   "cell_type": "code",
   "execution_count": 12,
   "metadata": {
    "collapsed": true
   },
   "outputs": [],
   "source": [
    "home_folder = create_parent_directory()\n",
    "\n",
    "for filename in glob.glob(r'C:\\Users\\rajas\\Downloads\\DataAnalysis4Python_Spring17-master\\Assignment 2\\Data\\*.json'):   #Read all json files\n",
    "    \n",
    "    \n",
    "    file_name = os.path.basename(filename)               #Get the file name\n",
    "    with open(filename) as f:\n",
    "        \n",
    "        data_from_file = json.load(f)                     #Load data from json file\n",
    "        \n",
    "    \n",
    "        categories = [category[\"title\"] for category in data_from_file[\"categories\"]]\n",
    "        for category in categories:\n",
    "            \n",
    "            category = ' '.join(category.split())              #Remove multiple spaces\n",
    "            \n",
    "            \n",
    "            city_name = ' '.join((data_from_file[\"location\"][\"city\"]).split())    #Remove extra spaces and numbers\n",
    "            city_name = remove_numbers_lam(city_name)\n",
    "            \n",
    "            #Call function to get folder path\n",
    "            data_dir = make_directory_with_country(home_folder, data_from_file[\"location\"][\"country\"], city_name, data_from_file[\"term\"], category)\n",
    "            \n",
    "            #Create file path by joining folder structure and file name\n",
    "            file_path = os.path.join(data_dir, file_name)\n",
    "            \n",
    "            #Write to json file\n",
    "            write_to_json_file(file_path, data_from_file)"
   ]
  },
  {
   "cell_type": "markdown",
   "metadata": {},
   "source": [
    "# Successfully created json file in a particular way"
   ]
  },
  {
   "cell_type": "markdown",
   "metadata": {},
   "source": [
    "# Question2-part2\n",
    "Read all the jsonfiles in the folder called Data. Read only the jsonfiles which contain the key called “restaurants” Each (or most of the jsonfiles) contain a key called “open” which contains the details of the operation (timings) of the restaurants. For each jsonfile, read the timings of the restaurants. Data of the operation timings of the restaurants is present for each day of the week. I want you to extract each of this data and write it in an excel sheet."
   ]
  },
  {
   "cell_type": "code",
   "execution_count": 13,
   "metadata": {
    "collapsed": true
   },
   "outputs": [],
   "source": [
    "def add_rows(file, details):     # writes data into restaurant \n",
    "    rows = []\n",
    "    for detail in details:\n",
    "        row = []\n",
    "        row.append(file[\"name\"])\n",
    "        row.append(' '.join((file[\"location\"][\"city\"]).split()))\n",
    "        row.append(file[\"location\"][\"country\"])\n",
    "        row.append(detail['day'])\n",
    "        row.append(detail['start'][:2])\n",
    "        row.append(detail['start'][2:])\n",
    "        row.append(detail['end'][:2])\n",
    "        row.append(detail['end'][2:])\n",
    "        rows.append(row)\n",
    "    return rows\n",
    "\n",
    "def write_to_csv(file_name, restaurant_timings):               #writes data to csv file\n",
    "    \n",
    "    with open(file_name, 'w', encoding='utf-8') as csv_output:\n",
    "        \n",
    "        # separating the delimiter and words\n",
    "        writer = csv.writer(csv_output, delimiter=',', quoting=csv.QUOTE_NONE, lineterminator='\\n',escapechar='\\\\')\n",
    "        \n",
    "        # giving title\n",
    "        writer.writerow((\"Name of Restaurant\", 'City', 'Country Code', 'Day of Week', 'Start Time Hour', 'Start Time Minutes', 'End Time Hour', 'End Time Minutes'))\n",
    "        for row in restaurant_timings:\n",
    "            writer.writerow(row)\n",
    "    \n",
    "        #closes connection\n",
    "        csv_output.close()"
   ]
  },
  {
   "cell_type": "code",
   "execution_count": 14,
   "metadata": {
    "collapsed": true
   },
   "outputs": [],
   "source": [
    "#Reads all the json files\n",
    "restaurant_timings = []\n",
    "for filename in glob.glob(r'C:\\Users\\rajas\\Downloads\\DataAnalysis4Python_Spring17-master\\Assignment 2\\Data\\Data\\*.json'):\n",
    "    with open(filename) as f:\n",
    "        \n",
    "        # Get data from json file\n",
    "        data_from_file = json.load(f)\n",
    "        \n",
    "        if data_from_file[\"term\"] == 'restaurants':         # sees if it is restaurant or not\n",
    "            \n",
    "            \n",
    "            try:\n",
    "                details = [value for value in data_from_file[\"hours\"]]\n",
    "            \n",
    "            except:                                          #Create a dummy row in case if it is not present\n",
    "                details = [{\"open\":[{\"day\": \"NA\",\"start\": \"NANA\",\"end\": \"NANA\"}]}]\n",
    "                \n",
    "            restaurant_timings.extend(add_rows(data_from_file, details[0][\"open\"]))              #Populate the data in a list\n",
    "            \n",
    "write_to_csv('restaurant_timings.csv', restaurant_timings)"
   ]
  },
  {
   "cell_type": "code",
   "execution_count": null,
   "metadata": {
    "collapsed": true
   },
   "outputs": [],
   "source": []
  }
 ],
 "metadata": {
  "kernelspec": {
   "display_name": "Python [conda root]",
   "language": "python",
   "name": "conda-root-py"
  },
  "language_info": {
   "codemirror_mode": {
    "name": "ipython",
    "version": 3
   },
   "file_extension": ".py",
   "mimetype": "text/x-python",
   "name": "python",
   "nbconvert_exporter": "python",
   "pygments_lexer": "ipython3",
   "version": "3.5.2"
  }
 },
 "nbformat": 4,
 "nbformat_minor": 1
}
