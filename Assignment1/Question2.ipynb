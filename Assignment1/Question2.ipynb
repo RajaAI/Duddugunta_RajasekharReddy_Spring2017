{
 "cells": [
  {
   "cell_type": "code",
   "execution_count": 1,
   "metadata": {
    "collapsed": false
   },
   "outputs": [
    {
     "ename": "NameError",
     "evalue": "name 'nltk' is not defined",
     "output_type": "error",
     "traceback": [
      "\u001b[0;31m---------------------------------------------------------------------------\u001b[0m",
      "\u001b[0;31mNameError\u001b[0m                                 Traceback (most recent call last)",
      "\u001b[0;32m<ipython-input-1-3c16941fc22d>\u001b[0m in \u001b[0;36m<module>\u001b[0;34m()\u001b[0m\n\u001b[0;32m----> 1\u001b[0;31m \u001b[0mfile2\u001b[0m\u001b[1;33m=\u001b[0m\u001b[0mnltk\u001b[0m\u001b[1;33m.\u001b[0m\u001b[0mcorpus\u001b[0m\u001b[1;33m.\u001b[0m\u001b[0mgutenberg\u001b[0m\u001b[1;33m.\u001b[0m\u001b[0mopen\u001b[0m\u001b[1;33m(\u001b[0m\u001b[1;34m'melville-moby_dick.txt'\u001b[0m\u001b[1;33m)\u001b[0m\u001b[1;33m\u001b[0m\u001b[0m\n\u001b[0m",
      "\u001b[0;31mNameError\u001b[0m: name 'nltk' is not defined"
     ]
    }
   ],
   "source": [
    "file2=nltk.corpus.gutenberg.open('melville-moby_dick.txt')"
   ]
  },
  {
   "cell_type": "code",
   "execution_count": 2,
   "metadata": {
    "collapsed": true
   },
   "outputs": [],
   "source": [
    "import nltk"
   ]
  },
  {
   "cell_type": "code",
   "execution_count": 3,
   "metadata": {
    "collapsed": true
   },
   "outputs": [],
   "source": [
    "from nltk.corpus import gutenberg"
   ]
  },
  {
   "cell_type": "code",
   "execution_count": 4,
   "metadata": {
    "collapsed": false
   },
   "outputs": [
    {
     "ename": "FileNotFoundError",
     "evalue": "[Errno 2] No such file or directory: 'melville-moby_dick.txt'",
     "output_type": "error",
     "traceback": [
      "\u001b[0;31m---------------------------------------------------------------------------\u001b[0m",
      "\u001b[0;31mFileNotFoundError\u001b[0m                         Traceback (most recent call last)",
      "\u001b[0;32m<ipython-input-4-dac3355724d1>\u001b[0m in \u001b[0;36m<module>\u001b[0;34m()\u001b[0m\n\u001b[0;32m----> 1\u001b[0;31m \u001b[0mfile2\u001b[0m\u001b[1;33m=\u001b[0m\u001b[0mopen\u001b[0m\u001b[1;33m(\u001b[0m\u001b[1;34m'melville-moby_dick.txt'\u001b[0m\u001b[1;33m)\u001b[0m\u001b[1;33m\u001b[0m\u001b[0m\n\u001b[0m",
      "\u001b[0;31mFileNotFoundError\u001b[0m: [Errno 2] No such file or directory: 'melville-moby_dick.txt'"
     ]
    }
   ],
   "source": [
    "file2=open('melville-moby_dick.txt')"
   ]
  },
  {
   "cell_type": "code",
   "execution_count": 5,
   "metadata": {
    "collapsed": false
   },
   "outputs": [
    {
     "ename": "FileNotFoundError",
     "evalue": "[Errno 2] No such file or directory: 'melville-moby_dick.txt'",
     "output_type": "error",
     "traceback": [
      "\u001b[0;31m---------------------------------------------------------------------------\u001b[0m",
      "\u001b[0;31mFileNotFoundError\u001b[0m                         Traceback (most recent call last)",
      "\u001b[0;32m<ipython-input-5-7c97b3c2e2c2>\u001b[0m in \u001b[0;36m<module>\u001b[0;34m()\u001b[0m\n\u001b[0;32m----> 1\u001b[0;31m \u001b[0mfile2\u001b[0m\u001b[1;33m=\u001b[0m\u001b[0mopen\u001b[0m\u001b[1;33m(\u001b[0m\u001b[1;34m\"melville-moby_dick.txt\"\u001b[0m\u001b[1;33m)\u001b[0m\u001b[1;33m\u001b[0m\u001b[0m\n\u001b[0m",
      "\u001b[0;31mFileNotFoundError\u001b[0m: [Errno 2] No such file or directory: 'melville-moby_dick.txt'"
     ]
    }
   ],
   "source": [
    "file2=open(\"melville-moby_dick.txt\")"
   ]
  },
  {
   "cell_type": "code",
   "execution_count": 6,
   "metadata": {
    "collapsed": false
   },
   "outputs": [
    {
     "ename": "FileNotFoundError",
     "evalue": "[Errno 2] No such file or directory: 'melville-moby_dick.txt'",
     "output_type": "error",
     "traceback": [
      "\u001b[0;31m---------------------------------------------------------------------------\u001b[0m",
      "\u001b[0;31mFileNotFoundError\u001b[0m                         Traceback (most recent call last)",
      "\u001b[0;32m<ipython-input-6-561b1ee14f54>\u001b[0m in \u001b[0;36m<module>\u001b[0;34m()\u001b[0m\n\u001b[0;32m----> 1\u001b[0;31m \u001b[0mfile2\u001b[0m\u001b[1;33m=\u001b[0m\u001b[0mopen\u001b[0m\u001b[1;33m(\u001b[0m\u001b[1;34m\"melville-moby_dick.txt\"\u001b[0m\u001b[1;33m,\u001b[0m\u001b[1;34m\"r+\"\u001b[0m\u001b[1;33m)\u001b[0m\u001b[1;33m\u001b[0m\u001b[0m\n\u001b[0m",
      "\u001b[0;31mFileNotFoundError\u001b[0m: [Errno 2] No such file or directory: 'melville-moby_dick.txt'"
     ]
    }
   ],
   "source": [
    "file2=open(\"melville-moby_dick.txt\",\"r+\")"
   ]
  },
  {
   "cell_type": "code",
   "execution_count": 7,
   "metadata": {
    "collapsed": true
   },
   "outputs": [],
   "source": [
    "file2=nltk.corpus.gutenberg.raw('melville-moby_dick.txt')"
   ]
  },
  {
   "cell_type": "code",
   "execution_count": 8,
   "metadata": {
    "collapsed": false
   },
   "outputs": [
    {
     "ename": "NameError",
     "evalue": "name 'fil2' is not defined",
     "output_type": "error",
     "traceback": [
      "\u001b[0;31m---------------------------------------------------------------------------\u001b[0m",
      "\u001b[0;31mNameError\u001b[0m                                 Traceback (most recent call last)",
      "\u001b[0;32m<ipython-input-8-844c75b42c3c>\u001b[0m in \u001b[0;36m<module>\u001b[0;34m()\u001b[0m\n\u001b[0;32m----> 1\u001b[0;31m \u001b[0mfile21\u001b[0m\u001b[1;33m=\u001b[0m\u001b[0mfil2\u001b[0m\u001b[1;33m.\u001b[0m\u001b[0mlower\u001b[0m\u001b[1;33m(\u001b[0m\u001b[1;33m)\u001b[0m\u001b[1;33m\u001b[0m\u001b[0m\n\u001b[0m",
      "\u001b[0;31mNameError\u001b[0m: name 'fil2' is not defined"
     ]
    }
   ],
   "source": [
    "file21=fil2.lower()"
   ]
  },
  {
   "cell_type": "code",
   "execution_count": 9,
   "metadata": {
    "collapsed": true
   },
   "outputs": [],
   "source": [
    "frequencyofcharacters=file2.lower()"
   ]
  },
  {
   "cell_type": "code",
   "execution_count": 10,
   "metadata": {
    "collapsed": true
   },
   "outputs": [],
   "source": [
    "import collections"
   ]
  },
  {
   "cell_type": "code",
   "execution_count": 11,
   "metadata": {
    "collapsed": false
   },
   "outputs": [
    {
     "ename": "SyntaxError",
     "evalue": "invalid syntax (<ipython-input-11-2a4c275f2429>, line 1)",
     "output_type": "error",
     "traceback": [
      "\u001b[0;36m  File \u001b[0;32m\"<ipython-input-11-2a4c275f2429>\"\u001b[0;36m, line \u001b[0;32m1\u001b[0m\n\u001b[0;31m    print collections.counter(frequencyofcharacters)\u001b[0m\n\u001b[0m                    ^\u001b[0m\n\u001b[0;31mSyntaxError\u001b[0m\u001b[0;31m:\u001b[0m invalid syntax\n"
     ]
    }
   ],
   "source": [
    "print collections.counter(frequencyofcharacters)"
   ]
  },
  {
   "cell_type": "code",
   "execution_count": 12,
   "metadata": {
    "collapsed": false
   },
   "outputs": [
    {
     "ename": "SyntaxError",
     "evalue": "invalid syntax (<ipython-input-12-7a3fa060e1bd>, line 1)",
     "output_type": "error",
     "traceback": [
      "\u001b[0;36m  File \u001b[0;32m\"<ipython-input-12-7a3fa060e1bd>\"\u001b[0;36m, line \u001b[0;32m1\u001b[0m\n\u001b[0;31m    print collections.counter('frequencyofcharacters')\u001b[0m\n\u001b[0m                    ^\u001b[0m\n\u001b[0;31mSyntaxError\u001b[0m\u001b[0;31m:\u001b[0m invalid syntax\n"
     ]
    }
   ],
   "source": [
    "print collections.counter('frequencyofcharacters')"
   ]
  },
  {
   "cell_type": "code",
   "execution_count": 13,
   "metadata": {
    "collapsed": false
   },
   "outputs": [
    {
     "ename": "SyntaxError",
     "evalue": "invalid syntax (<ipython-input-13-df772aecc449>, line 1)",
     "output_type": "error",
     "traceback": [
      "\u001b[0;36m  File \u001b[0;32m\"<ipython-input-13-df772aecc449>\"\u001b[0;36m, line \u001b[0;32m1\u001b[0m\n\u001b[0;31m    print collections.counter(\"frequencyofcharacters\")\u001b[0m\n\u001b[0m                    ^\u001b[0m\n\u001b[0;31mSyntaxError\u001b[0m\u001b[0;31m:\u001b[0m invalid syntax\n"
     ]
    }
   ],
   "source": [
    "print collections.counter(\"frequencyofcharacters\")"
   ]
  },
  {
   "cell_type": "code",
   "execution_count": 14,
   "metadata": {
    "collapsed": false
   },
   "outputs": [
    {
     "ename": "SyntaxError",
     "evalue": "invalid syntax (<ipython-input-14-c74875574d7c>, line 1)",
     "output_type": "error",
     "traceback": [
      "\u001b[0;36m  File \u001b[0;32m\"<ipython-input-14-c74875574d7c>\"\u001b[0;36m, line \u001b[0;32m1\u001b[0m\n\u001b[0;31m    print collections.counter('file2')\u001b[0m\n\u001b[0m                    ^\u001b[0m\n\u001b[0;31mSyntaxError\u001b[0m\u001b[0;31m:\u001b[0m invalid syntax\n"
     ]
    }
   ],
   "source": [
    "print collections.counter('file2')"
   ]
  },
  {
   "cell_type": "code",
   "execution_count": 15,
   "metadata": {
    "collapsed": false
   },
   "outputs": [
    {
     "ename": "SyntaxError",
     "evalue": "invalid syntax (<ipython-input-15-b3c324708826>, line 1)",
     "output_type": "error",
     "traceback": [
      "\u001b[0;36m  File \u001b[0;32m\"<ipython-input-15-b3c324708826>\"\u001b[0;36m, line \u001b[0;32m1\u001b[0m\n\u001b[0;31m    print collections.Counter('frequencyofcharacters')\u001b[0m\n\u001b[0m                    ^\u001b[0m\n\u001b[0;31mSyntaxError\u001b[0m\u001b[0;31m:\u001b[0m invalid syntax\n"
     ]
    }
   ],
   "source": [
    "print collections.Counter('frequencyofcharacters')"
   ]
  },
  {
   "cell_type": "code",
   "execution_count": 16,
   "metadata": {
    "collapsed": false
   },
   "outputs": [
    {
     "ename": "SyntaxError",
     "evalue": "invalid syntax (<ipython-input-16-70f9fa4f4bfd>, line 1)",
     "output_type": "error",
     "traceback": [
      "\u001b[0;36m  File \u001b[0;32m\"<ipython-input-16-70f9fa4f4bfd>\"\u001b[0;36m, line \u001b[0;32m1\u001b[0m\n\u001b[0;31m    print collections.Counter(frequencyofcharacters)\u001b[0m\n\u001b[0m                    ^\u001b[0m\n\u001b[0;31mSyntaxError\u001b[0m\u001b[0;31m:\u001b[0m invalid syntax\n"
     ]
    }
   ],
   "source": [
    "print collections.Counter(frequencyofcharacters)"
   ]
  },
  {
   "cell_type": "code",
   "execution_count": 17,
   "metadata": {
    "collapsed": false
   },
   "outputs": [
    {
     "ename": "SyntaxError",
     "evalue": "invalid syntax (<ipython-input-17-012ad0a28715>, line 1)",
     "output_type": "error",
     "traceback": [
      "\u001b[0;36m  File \u001b[0;32m\"<ipython-input-17-012ad0a28715>\"\u001b[0;36m, line \u001b[0;32m1\u001b[0m\n\u001b[0;31m    print collections.Counter(file2)\u001b[0m\n\u001b[0m                    ^\u001b[0m\n\u001b[0;31mSyntaxError\u001b[0m\u001b[0;31m:\u001b[0m invalid syntax\n"
     ]
    }
   ],
   "source": [
    "print collections.Counter(file2)\n"
   ]
  },
  {
   "cell_type": "code",
   "execution_count": 18,
   "metadata": {
    "collapsed": false
   },
   "outputs": [
    {
     "ename": "SyntaxError",
     "evalue": "invalid syntax (<ipython-input-18-f7d01ddf900d>, line 1)",
     "output_type": "error",
     "traceback": [
      "\u001b[0;36m  File \u001b[0;32m\"<ipython-input-18-f7d01ddf900d>\"\u001b[0;36m, line \u001b[0;32m1\u001b[0m\n\u001b[0;31m    print collections.Counter('file2')\u001b[0m\n\u001b[0m                    ^\u001b[0m\n\u001b[0;31mSyntaxError\u001b[0m\u001b[0;31m:\u001b[0m invalid syntax\n"
     ]
    }
   ],
   "source": [
    "print collections.Counter('file2')\n"
   ]
  },
  {
   "cell_type": "code",
   "execution_count": 19,
   "metadata": {
    "collapsed": true
   },
   "outputs": [],
   "source": [
    "letters = collections.defaultdict(int)\n",
    "for letter in file2:\n",
    "    letters[letter] += 1"
   ]
  },
  {
   "cell_type": "code",
   "execution_count": 20,
   "metadata": {
    "collapsed": false
   },
   "outputs": [
    {
     "data": {
      "text/plain": [
       "defaultdict(int,\n",
       "            {'\\n': 22924,\n",
       "             '\\r': 22924,\n",
       "             ' ': 198098,\n",
       "             '!': 1767,\n",
       "             '\"': 3071,\n",
       "             '$': 2,\n",
       "             '&': 2,\n",
       "             \"'\": 2922,\n",
       "             '(': 215,\n",
       "             ')': 215,\n",
       "             '*': 45,\n",
       "             ',': 19229,\n",
       "             '-': 5984,\n",
       "             '.': 7558,\n",
       "             '0': 131,\n",
       "             '1': 142,\n",
       "             '2': 60,\n",
       "             '3': 47,\n",
       "             '4': 39,\n",
       "             '5': 55,\n",
       "             '6': 37,\n",
       "             '7': 53,\n",
       "             '8': 59,\n",
       "             '9': 35,\n",
       "             ':': 196,\n",
       "             ';': 4173,\n",
       "             '?': 1004,\n",
       "             'A': 2650,\n",
       "             'B': 1426,\n",
       "             'C': 1147,\n",
       "             'D': 751,\n",
       "             'E': 1237,\n",
       "             'F': 804,\n",
       "             'G': 640,\n",
       "             'H': 1462,\n",
       "             'I': 3543,\n",
       "             'J': 253,\n",
       "             'K': 177,\n",
       "             'L': 900,\n",
       "             'M': 752,\n",
       "             'N': 1186,\n",
       "             'O': 988,\n",
       "             'P': 1048,\n",
       "             'Q': 322,\n",
       "             'R': 823,\n",
       "             'S': 2209,\n",
       "             'T': 2457,\n",
       "             'U': 240,\n",
       "             'V': 171,\n",
       "             'W': 1305,\n",
       "             'X': 23,\n",
       "             'Y': 330,\n",
       "             'Z': 38,\n",
       "             '[': 3,\n",
       "             ']': 3,\n",
       "             '_': 26,\n",
       "             'a': 75266,\n",
       "             'b': 15451,\n",
       "             'c': 21360,\n",
       "             'd': 37468,\n",
       "             'e': 115855,\n",
       "             'f': 20029,\n",
       "             'g': 20180,\n",
       "             'h': 61434,\n",
       "             'i': 61891,\n",
       "             'j': 829,\n",
       "             'k': 7882,\n",
       "             'l': 41893,\n",
       "             'm': 22525,\n",
       "             'n': 64431,\n",
       "             'o': 68338,\n",
       "             'p': 16207,\n",
       "             'q': 1234,\n",
       "             'r': 51311,\n",
       "             's': 62022,\n",
       "             't': 85539,\n",
       "             'u': 26457,\n",
       "             'v': 8427,\n",
       "             'w': 20917,\n",
       "             'x': 1007,\n",
       "             'y': 16542,\n",
       "             'z': 594})"
      ]
     },
     "execution_count": 20,
     "metadata": {},
     "output_type": "execute_result"
    }
   ],
   "source": [
    "letters"
   ]
  },
  {
   "cell_type": "code",
   "execution_count": 21,
   "metadata": {
    "collapsed": true
   },
   "outputs": [],
   "source": [
    "letters = collections.defaultdict(int)\n",
    "for letter in frequencyofcharacters:\n",
    "    letters[letter] += 1"
   ]
  },
  {
   "cell_type": "code",
   "execution_count": 22,
   "metadata": {
    "collapsed": false
   },
   "outputs": [
    {
     "data": {
      "text/plain": [
       "defaultdict(int,\n",
       "            {'\\n': 22924,\n",
       "             '\\r': 22924,\n",
       "             ' ': 198098,\n",
       "             '!': 1767,\n",
       "             '\"': 3071,\n",
       "             '$': 2,\n",
       "             '&': 2,\n",
       "             \"'\": 2922,\n",
       "             '(': 215,\n",
       "             ')': 215,\n",
       "             '*': 45,\n",
       "             ',': 19229,\n",
       "             '-': 5984,\n",
       "             '.': 7558,\n",
       "             '0': 131,\n",
       "             '1': 142,\n",
       "             '2': 60,\n",
       "             '3': 47,\n",
       "             '4': 39,\n",
       "             '5': 55,\n",
       "             '6': 37,\n",
       "             '7': 53,\n",
       "             '8': 59,\n",
       "             '9': 35,\n",
       "             ':': 196,\n",
       "             ';': 4173,\n",
       "             '?': 1004,\n",
       "             '[': 3,\n",
       "             ']': 3,\n",
       "             '_': 26,\n",
       "             'a': 77916,\n",
       "             'b': 16877,\n",
       "             'c': 22507,\n",
       "             'd': 38219,\n",
       "             'e': 117092,\n",
       "             'f': 20833,\n",
       "             'g': 20820,\n",
       "             'h': 62896,\n",
       "             'i': 65434,\n",
       "             'j': 1082,\n",
       "             'k': 8059,\n",
       "             'l': 42793,\n",
       "             'm': 23277,\n",
       "             'n': 65617,\n",
       "             'o': 69326,\n",
       "             'p': 17255,\n",
       "             'q': 1556,\n",
       "             'r': 52134,\n",
       "             's': 64231,\n",
       "             't': 87996,\n",
       "             'u': 26697,\n",
       "             'v': 8598,\n",
       "             'w': 22222,\n",
       "             'x': 1030,\n",
       "             'y': 16872,\n",
       "             'z': 632})"
      ]
     },
     "execution_count": 22,
     "metadata": {},
     "output_type": "execute_result"
    }
   ],
   "source": [
    "letters"
   ]
  },
  {
   "cell_type": "code",
   "execution_count": 23,
   "metadata": {
    "collapsed": false
   },
   "outputs": [
    {
     "ename": "NameError",
     "evalue": "name 'FreqDist' is not defined",
     "output_type": "error",
     "traceback": [
      "\u001b[0;31m---------------------------------------------------------------------------\u001b[0m",
      "\u001b[0;31mNameError\u001b[0m                                 Traceback (most recent call last)",
      "\u001b[0;32m<ipython-input-23-316bc6781200>\u001b[0m in \u001b[0;36m<module>\u001b[0;34m()\u001b[0m\n\u001b[0;32m----> 1\u001b[0;31m \u001b[0mFreqDist\u001b[0m\u001b[1;33m(\u001b[0m\u001b[1;34m'letters'\u001b[0m\u001b[1;33m)\u001b[0m\u001b[1;33m\u001b[0m\u001b[0m\n\u001b[0m",
      "\u001b[0;31mNameError\u001b[0m: name 'FreqDist' is not defined"
     ]
    }
   ],
   "source": [
    "FreqDist('letters')"
   ]
  },
  {
   "cell_type": "code",
   "execution_count": 24,
   "metadata": {
    "collapsed": false
   },
   "outputs": [
    {
     "ename": "NameError",
     "evalue": "name 'FreqDist' is not defined",
     "output_type": "error",
     "traceback": [
      "\u001b[0;31m---------------------------------------------------------------------------\u001b[0m",
      "\u001b[0;31mNameError\u001b[0m                                 Traceback (most recent call last)",
      "\u001b[0;32m<ipython-input-24-f9505345e4c2>\u001b[0m in \u001b[0;36m<module>\u001b[0;34m()\u001b[0m\n\u001b[0;32m----> 1\u001b[0;31m \u001b[0morder\u001b[0m\u001b[1;33m=\u001b[0m\u001b[0mFreqDist\u001b[0m\u001b[1;33m(\u001b[0m\u001b[0mletters\u001b[0m\u001b[1;33m)\u001b[0m\u001b[1;33m\u001b[0m\u001b[0m\n\u001b[0m",
      "\u001b[0;31mNameError\u001b[0m: name 'FreqDist' is not defined"
     ]
    }
   ],
   "source": [
    "order=FreqDist(letters)"
   ]
  },
  {
   "cell_type": "raw",
   "metadata": {},
   "source": [
    "from nltk.book import * "
   ]
  },
  {
   "cell_type": "code",
   "execution_count": 25,
   "metadata": {
    "collapsed": false
   },
   "outputs": [
    {
     "ename": "NameError",
     "evalue": "name 'FreqDist' is not defined",
     "output_type": "error",
     "traceback": [
      "\u001b[0;31m---------------------------------------------------------------------------\u001b[0m",
      "\u001b[0;31mNameError\u001b[0m                                 Traceback (most recent call last)",
      "\u001b[0;32m<ipython-input-25-f9505345e4c2>\u001b[0m in \u001b[0;36m<module>\u001b[0;34m()\u001b[0m\n\u001b[0;32m----> 1\u001b[0;31m \u001b[0morder\u001b[0m\u001b[1;33m=\u001b[0m\u001b[0mFreqDist\u001b[0m\u001b[1;33m(\u001b[0m\u001b[0mletters\u001b[0m\u001b[1;33m)\u001b[0m\u001b[1;33m\u001b[0m\u001b[0m\n\u001b[0m",
      "\u001b[0;31mNameError\u001b[0m: name 'FreqDist' is not defined"
     ]
    }
   ],
   "source": [
    "order=FreqDist(letters)"
   ]
  },
  {
   "cell_type": "code",
   "execution_count": 26,
   "metadata": {
    "collapsed": false
   },
   "outputs": [
    {
     "name": "stdout",
     "output_type": "stream",
     "text": [
      "*** Introductory Examples for the NLTK Book ***\n",
      "Loading text1, ..., text9 and sent1, ..., sent9\n",
      "Type the name of the text or sentence to view it.\n",
      "Type: 'texts()' or 'sents()' to list the materials.\n",
      "text1: Moby Dick by Herman Melville 1851\n",
      "text2: Sense and Sensibility by Jane Austen 1811\n",
      "text3: The Book of Genesis\n",
      "text4: Inaugural Address Corpus\n",
      "text5: Chat Corpus\n",
      "text6: Monty Python and the Holy Grail\n",
      "text7: Wall Street Journal\n",
      "text8: Personals Corpus\n",
      "text9: The Man Who Was Thursday by G . K . Chesterton 1908\n"
     ]
    }
   ],
   "source": [
    "from nltk.book import *"
   ]
  },
  {
   "cell_type": "code",
   "execution_count": 27,
   "metadata": {
    "collapsed": true
   },
   "outputs": [],
   "source": [
    "order=FreqDist(letters)"
   ]
  },
  {
   "cell_type": "code",
   "execution_count": 28,
   "metadata": {
    "collapsed": false
   },
   "outputs": [
    {
     "data": {
      "text/plain": [
       "FreqDist({'\\n': 22924,\n",
       "          '\\r': 22924,\n",
       "          ' ': 198098,\n",
       "          '!': 1767,\n",
       "          '\"': 3071,\n",
       "          '$': 2,\n",
       "          '&': 2,\n",
       "          \"'\": 2922,\n",
       "          '(': 215,\n",
       "          ')': 215,\n",
       "          '*': 45,\n",
       "          ',': 19229,\n",
       "          '-': 5984,\n",
       "          '.': 7558,\n",
       "          '0': 131,\n",
       "          '1': 142,\n",
       "          '2': 60,\n",
       "          '3': 47,\n",
       "          '4': 39,\n",
       "          '5': 55,\n",
       "          '6': 37,\n",
       "          '7': 53,\n",
       "          '8': 59,\n",
       "          '9': 35,\n",
       "          ':': 196,\n",
       "          ';': 4173,\n",
       "          '?': 1004,\n",
       "          '[': 3,\n",
       "          ']': 3,\n",
       "          '_': 26,\n",
       "          'a': 77916,\n",
       "          'b': 16877,\n",
       "          'c': 22507,\n",
       "          'd': 38219,\n",
       "          'e': 117092,\n",
       "          'f': 20833,\n",
       "          'g': 20820,\n",
       "          'h': 62896,\n",
       "          'i': 65434,\n",
       "          'j': 1082,\n",
       "          'k': 8059,\n",
       "          'l': 42793,\n",
       "          'm': 23277,\n",
       "          'n': 65617,\n",
       "          'o': 69326,\n",
       "          'p': 17255,\n",
       "          'q': 1556,\n",
       "          'r': 52134,\n",
       "          's': 64231,\n",
       "          't': 87996,\n",
       "          'u': 26697,\n",
       "          'v': 8598,\n",
       "          'w': 22222,\n",
       "          'x': 1030,\n",
       "          'y': 16872,\n",
       "          'z': 632})"
      ]
     },
     "execution_count": 28,
     "metadata": {},
     "output_type": "execute_result"
    }
   ],
   "source": [
    "order"
   ]
  },
  {
   "cell_type": "code",
   "execution_count": 29,
   "metadata": {
    "collapsed": true
   },
   "outputs": [],
   "source": [
    "top=order.most_common()"
   ]
  },
  {
   "cell_type": "code",
   "execution_count": 30,
   "metadata": {
    "collapsed": false
   },
   "outputs": [
    {
     "data": {
      "text/plain": [
       "[(' ', 198098),\n",
       " ('e', 117092),\n",
       " ('t', 87996),\n",
       " ('a', 77916),\n",
       " ('o', 69326),\n",
       " ('n', 65617),\n",
       " ('i', 65434),\n",
       " ('s', 64231),\n",
       " ('h', 62896),\n",
       " ('r', 52134),\n",
       " ('l', 42793),\n",
       " ('d', 38219),\n",
       " ('u', 26697),\n",
       " ('m', 23277),\n",
       " ('\\n', 22924),\n",
       " ('\\r', 22924),\n",
       " ('c', 22507),\n",
       " ('w', 22222),\n",
       " ('f', 20833),\n",
       " ('g', 20820),\n",
       " (',', 19229),\n",
       " ('p', 17255),\n",
       " ('b', 16877),\n",
       " ('y', 16872),\n",
       " ('v', 8598),\n",
       " ('k', 8059),\n",
       " ('.', 7558),\n",
       " ('-', 5984),\n",
       " (';', 4173),\n",
       " ('\"', 3071),\n",
       " (\"'\", 2922),\n",
       " ('!', 1767),\n",
       " ('q', 1556),\n",
       " ('j', 1082),\n",
       " ('x', 1030),\n",
       " ('?', 1004),\n",
       " ('z', 632),\n",
       " ('(', 215),\n",
       " (')', 215),\n",
       " (':', 196),\n",
       " ('1', 142),\n",
       " ('0', 131),\n",
       " ('2', 60),\n",
       " ('8', 59),\n",
       " ('5', 55),\n",
       " ('7', 53),\n",
       " ('3', 47),\n",
       " ('*', 45),\n",
       " ('4', 39),\n",
       " ('6', 37),\n",
       " ('9', 35),\n",
       " ('_', 26),\n",
       " ('[', 3),\n",
       " (']', 3),\n",
       " ('$', 2),\n",
       " ('&', 2)]"
      ]
     },
     "execution_count": 30,
     "metadata": {},
     "output_type": "execute_result"
    }
   ],
   "source": [
    "top"
   ]
  },
  {
   "cell_type": "code",
   "execution_count": null,
   "metadata": {
    "collapsed": true
   },
   "outputs": [],
   "source": []
  }
 ],
 "metadata": {
  "anaconda-cloud": {},
  "kernelspec": {
   "display_name": "Python [conda root]",
   "language": "python",
   "name": "conda-root-py"
  },
  "language_info": {
   "codemirror_mode": {
    "name": "ipython",
    "version": 3
   },
   "file_extension": ".py",
   "mimetype": "text/x-python",
   "name": "python",
   "nbconvert_exporter": "python",
   "pygments_lexer": "ipython3",
   "version": "3.5.2"
  }
 },
 "nbformat": 4,
 "nbformat_minor": 1
}
